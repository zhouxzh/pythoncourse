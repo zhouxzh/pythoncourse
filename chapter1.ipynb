{
 "cells": [
  {
   "cell_type": "code",
   "execution_count": 1,
   "metadata": {},
   "outputs": [
    {
     "name": "stdout",
     "output_type": "stream",
     "text": [
      "1 2 3\n"
     ]
    }
   ],
   "source": [
    "# %load 1/1_1.py\n",
    "x = input('请输入一个三位数：')\n",
    "\n",
    "a, b, c = map(int, x)\n",
    "\n",
    "print(a, b, c)\n",
    "\n"
   ]
  },
  {
   "cell_type": "code",
   "execution_count": 2,
   "metadata": {},
   "outputs": [
    {
     "name": "stdout",
     "output_type": "stream",
     "text": [
      "c= 1.0027371844016282\n"
     ]
    }
   ],
   "source": [
    "# %load 1/1_2.py\n",
    "import math\n",
    "\n",
    "x = input('输入两边长及夹角（度）：')\n",
    "\n",
    "a, b, theta = map(float, x.split())\n",
    "\n",
    "c = math.sqrt(a**2 + b**2 - 2*a*b*math.cos(theta*math.pi/180))\n",
    "\n",
    "print('c=', c)\n",
    "\n"
   ]
  },
  {
   "cell_type": "code",
   "execution_count": 6,
   "metadata": {},
   "outputs": [
    {
     "name": "stdout",
     "output_type": "stream",
     "text": [
      "1 2 3\n"
     ]
    }
   ],
   "source": [
    "# %load 1/1_3.py\n",
    "s = input('x,y,z=')\n",
    "\n",
    "x, y, z = s.split(',')\n",
    "\n",
    "x, y, z = sorted([x, y, z])\n",
    "\n",
    "print(x, y, z)\n",
    "\n"
   ]
  },
  {
   "cell_type": "code",
   "execution_count": null,
   "metadata": {},
   "outputs": [],
   "source": []
  }
 ],
 "metadata": {
  "kernelspec": {
   "display_name": "base",
   "language": "python",
   "name": "python3"
  },
  "language_info": {
   "codemirror_mode": {
    "name": "ipython",
    "version": 3
   },
   "file_extension": ".py",
   "mimetype": "text/x-python",
   "name": "python",
   "nbconvert_exporter": "python",
   "pygments_lexer": "ipython3",
   "version": "3.8.18"
  }
 },
 "nbformat": 4,
 "nbformat_minor": 2
}
