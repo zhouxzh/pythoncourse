{
 "cells": [
  {
   "cell_type": "code",
   "execution_count": 1,
   "id": "f224486c-014e-465a-82a4-ce5a0b718208",
   "metadata": {},
   "outputs": [
    {
     "name": "stdout",
     "output_type": "stream",
     "text": [
      "8\n"
     ]
    }
   ],
   "source": [
    "def add(value1, value2):\n",
    "    #下面一对三引号之间是测试代码，doctest会搜索这些代码并执行\n",
    "    #并且根据执行结果与预期结果的匹配程度来测试代码是否正确\n",
    "    '''return the addition of two numbers or the concatenation of two string/list/tuple\n",
    "    >>> add(3, 5)\n",
    "    8\n",
    "    >>> add(3.0, 5.0)\n",
    "    8.0\n",
    "    >>> add([1,2], [3, 4])\n",
    "    [1, 2, 3, 4]\n",
    "    >>> add((1,), (2, 3, 4))\n",
    "    (1, 2, 3, 4)\n",
    "    >>> add(1, [3])\n",
    "    Traceback (most recent call last):\n",
    "        ...\n",
    "    TypeError: value1 and value2 must be of the same type\n",
    "    >>> add(1, '2')\n",
    "    Traceback (most recent call last):\n",
    "        ...\n",
    "    TypeError: value1 and value2 must be of the same type\n",
    "    >>> add([1], (2,))\n",
    "    Traceback (most recent call last):\n",
    "        ...\n",
    "    TypeError: value1 and value2 must be of the same type\n",
    "    >>> add('1234', [1,2,3,4])\n",
    "    Traceback (most recent call last):\n",
    "        ...\n",
    "    TypeError: value1 and value2 must be of the same type\n",
    "    >>> add({1,2,3}, {3,4,5})\n",
    "    {1, 2, 3, 4, 5}\n",
    "    >>> add({1:1}, {2:2})\n",
    "    Traceback (most recent call last):\n",
    "        ...\n",
    "    TypeError: value1 and value2 must be the type of int,float,str,list,tuple or set\n",
    "    '''\n",
    "    #下面是正式的功能代码\n",
    "    if type(value1) not in (int, float, str, list, tuple, set):\n",
    "        raise TypeError('value1 and value2 must be the type of int,float,str,list,tuple or set')\n",
    "    if type(value1) != type(value2):\n",
    "        raise TypeError('value1 and value2 must be of the same type')\n",
    "    if type(value1) == set:\n",
    "        return value1 | value2\n",
    "    else:\n",
    "        return value1 + value2\n",
    "\n",
    "if __name__ == \"__main__\":    \n",
    "    import doctest\n",
    "    doctest.testmod()\n",
    "    print(add(3,5))"
   ]
  },
  {
   "cell_type": "code",
   "execution_count": 2,
   "id": "e50b80c6-02fb-4023-9590-12a8afe53b73",
   "metadata": {},
   "outputs": [
    {
     "name": "stdout",
     "output_type": "stream",
     "text": [
      "Please use me as a module.\n"
     ]
    }
   ],
   "source": [
    "'''\n",
    "Author: Dong Fuguo\n",
    "QQ: 306467355\n",
    "Wmail: dongfuguo2005@126.com\n",
    "Date: 2014-11-10, Updated on 2015-12-13\n",
    "'''\n",
    "class Stack:\n",
    "    def __init__(self, size = 10):\n",
    "        self._content = []                 #使用列表存放栈的元素\n",
    "        self._size = size                  #初始栈大小\n",
    "        self._current = 0                  #栈中元素个数初始化为0\n",
    "        \n",
    "    def empty(self):\n",
    "        self._content = []\n",
    "        self._current = 0\n",
    "        \n",
    "    def isEmpty(self):\n",
    "        if not self._content:\n",
    "            return True\n",
    "        else:\n",
    "            return False\n",
    "\n",
    "    def setSize(self, size):\n",
    "        #如果缩小栈空间，则删除指定大小之后的已有元素\n",
    "        if size < self._current:\n",
    "            for i in range(size, self._current)[::-1]:\n",
    "                del self._content[i]\n",
    "            self._current = size\n",
    "        self._size = size\n",
    "    \n",
    "    def isFull(self):\n",
    "        if self._current == self._size:\n",
    "            return True\n",
    "        else:\n",
    "            return False\n",
    "        \n",
    "    def push(self, v):\n",
    "        if len(self._content) < self._size:\n",
    "            self._content.append(v)\n",
    "            self._current = self._current+1  #栈中元素个数加1\n",
    "        else:\n",
    "            print('Stack Full!')\n",
    "            \n",
    "    def pop(self):\n",
    "        if self._content:\n",
    "            self._current = self._current-1 #栈中元素个数减1\n",
    "            return self._content.pop()\n",
    "        else:\n",
    "            print('Stack is empty!')\n",
    "            \n",
    "    def show(self):\n",
    "        print(self._content)\n",
    "\n",
    "    def showRemainderSpace(self):\n",
    "        print('Stack can still PUSH ', self._size-self._current, ' elements.')\n",
    "\n",
    "if __name__ == '__main__':\n",
    "    print('Please use me as a module.')\n"
   ]
  },
  {
   "cell_type": "code",
   "execution_count": null,
   "id": "b998f127-1b9b-45e0-8b7e-26c4a1e4ba08",
   "metadata": {},
   "outputs": [],
   "source": []
  }
 ],
 "metadata": {
  "kernelspec": {
   "display_name": "Python 3 (ipykernel)",
   "language": "python",
   "name": "python3"
  },
  "language_info": {
   "codemirror_mode": {
    "name": "ipython",
    "version": 3
   },
   "file_extension": ".py",
   "mimetype": "text/x-python",
   "name": "python",
   "nbconvert_exporter": "python",
   "pygments_lexer": "ipython3",
   "version": "3.8.18"
  }
 },
 "nbformat": 4,
 "nbformat_minor": 5
}
