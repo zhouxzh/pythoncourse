{
 "cells": [
  {
   "cell_type": "code",
   "execution_count": 1,
   "id": "e2069bc1-68dd-4d3f-aecf-ac39ef7ce655",
   "metadata": {},
   "outputs": [
    {
     "name": "stdout",
     "output_type": "stream",
     "text": [
      "3.1628\n",
      "3.13948\n",
      "3.14161628\n"
     ]
    }
   ],
   "source": [
    "import numpy as np\n",
    "\n",
    "def numpy_pi(times):\n",
    "    x = np.random.rand(times)        # 第一象限随机点的x坐标，[0,1)区间\n",
    "    y = np.random.rand(times)        # 第一象限随机点的y坐标，[0,1)区间\n",
    "    hits = np.sum(x**2+y**2 <= 1)    # 落在四分之一单位圆周及内部的点的数量\n",
    "    pi = hits / times * 4             # 圆周率近似值\n",
    "    return pi\n",
    "\n",
    "print(numpy_pi(10000))\n",
    "print(numpy_pi(100000))\n",
    "print(numpy_pi(100000000))\n"
   ]
  },
  {
   "cell_type": "code",
   "execution_count": 2,
   "id": "ca4ca15f-5141-4dc5-b117-9ef95b0c2287",
   "metadata": {},
   "outputs": [],
   "source": [
    "import numpy as np\n",
    "from scipy.io import wavfile\n",
    "\n",
    "def fadeInOutMusic(srcMusicFile, dstMusicFile):\n",
    "    # 读取WAV声音文件，返回采样频率与音乐数据\n",
    "    # 二维数组musicData形状为(n,2)，每列表示一个声道\n",
    "    sampleRate, musicData = wavfile.read(srcMusicFile)\n",
    "    length = len(musicData)\n",
    "    f = np.linspace(0, 1, length//10)\n",
    "    # 系数，先越来越大，中间音量不变，最后再越来越小\n",
    "    factors = np.concatenate((f, (1,)*(length-len(f)*2), f[::-1]))\n",
    "    # 使用设置好的渐变系数调整音量大小\n",
    "    musicData = np.int16(np.array(factors).reshape(-1,1) * musicData)\n",
    "    # 写入结果文件\n",
    "    wavfile.write(dstMusicFile, sampleRate, musicData)\n",
    "\n",
    "fadeInOutMusic('11-13/北国之春.wav', 'result.wav')\n"
   ]
  },
  {
   "cell_type": "code",
   "execution_count": 3,
   "id": "f1c162ed-e999-406f-bf75-a0669392350e",
   "metadata": {},
   "outputs": [],
   "source": [
    "import numpy as np\n",
    "from PIL import Image\n",
    "\n",
    "fn = '11-13/彩色图像.jpg'\n",
    "arr = np.array(Image.open(fn))\n",
    "# 红绿蓝三分量加权平均，变为灰度图像\n",
    "arr = np.average(arr, axis=2, weights=(0.3,0.59,0.11))\n",
    "arr = np.int8(np.clip(arr*1.3, 0, 255))   # 灰度值变大，整体调亮，然后重建图像\n",
    "im_gray = Image.fromarray(arr, 'L')\n",
    "im_gray.show()                            # 显示图像\n",
    "# im_gray.save('转换后的灰度图像.jpg')     # 保存图像文件\n"
   ]
  }
 ],
 "metadata": {
  "kernelspec": {
   "display_name": "Python 3 (ipykernel)",
   "language": "python",
   "name": "python3"
  },
  "language_info": {
   "codemirror_mode": {
    "name": "ipython",
    "version": 3
   },
   "file_extension": ".py",
   "mimetype": "text/x-python",
   "name": "python",
   "nbconvert_exporter": "python",
   "pygments_lexer": "ipython3",
   "version": "3.8.18"
  }
 },
 "nbformat": 4,
 "nbformat_minor": 5
}
