{
 "cells": [
  {
   "cell_type": "code",
   "execution_count": 1,
   "id": "961a3872-8435-42d1-9b60-80075677eb2a",
   "metadata": {},
   "outputs": [
    {
     "name": "stdout",
     "output_type": "stream",
     "text": [
      "A\n"
     ]
    }
   ],
   "source": [
    "def func(score):\n",
    "    if score > 100:\n",
    "        return 'wrong score.must <= 100.'\n",
    "    elif score >= 90:\n",
    "        return 'A'\n",
    "    elif score >= 80:\n",
    "        return 'B'\n",
    "    elif score >= 70:\n",
    "        return 'C'\n",
    "    elif score >= 60:\n",
    "        return 'D'\n",
    "    elif score >= 0:\n",
    "        return 'E'\n",
    "    else:\n",
    "        return 'wrong score.must >0'\t\n",
    "\n",
    "print(func(96))\n"
   ]
  },
  {
   "cell_type": "code",
   "execution_count": 2,
   "id": "61c91978-09f7-4029-be36-44f801b75cdf",
   "metadata": {},
   "outputs": [
    {
     "name": "stdout",
     "output_type": "stream",
     "text": [
      "恭喜，你已获得我公司的面试机会!\n"
     ]
    }
   ],
   "source": [
    "#!/usr/bin/env python3\n",
    "\n",
    "age=24\n",
    "subject=\"计算机\"\n",
    "college=\"非重点\"\n",
    "if (age > 25 and subject==\"电子信息工程\") or (college==\"重点\" and subject==\"电子信息工程\" ) or (age<=28 and subject==\"计算机\"):\n",
    "    print(\"恭喜，你已获得我公司的面试机会!\")\n",
    "else:\n",
    "    print(\"抱歉，你未达到面试要求\")\n"
   ]
  },
  {
   "cell_type": "code",
   "execution_count": 3,
   "id": "b9ffb859-ef41-4991-bcf9-4ca92d4c5da1",
   "metadata": {},
   "outputs": [
    {
     "name": "stdout",
     "output_type": "stream",
     "text": [
      "40.0\n"
     ]
    }
   ],
   "source": [
    "numbers = []                                  #使用列表存放临时数据\n",
    "while True:\n",
    "    x = input('请输入一个成绩：')\n",
    "    try:                                      #异常处理结构有关知识见第11章\n",
    "        numbers.append(float(x))\n",
    "    except:\n",
    "        print('不是合法成绩')\n",
    "    while True:\n",
    "        flag = input('继续输入吗？（yes/no）')\n",
    "        if flag.lower() not in ('yes', 'no'):  #限定用户输入内容必须为yes或no\n",
    "            print('只能输入yes或no')\n",
    "        else:\n",
    "            break\n",
    "    if flag.lower()=='no':\n",
    "        break\n",
    "\n",
    "print(sum(numbers)/len(numbers))\n"
   ]
  },
  {
   "cell_type": "code",
   "execution_count": 4,
   "id": "2733c867-cbb8-430c-88ca-3a14714f5257",
   "metadata": {},
   "outputs": [
    {
     "name": "stdout",
     "output_type": "stream",
     "text": [
      "188\n"
     ]
    }
   ],
   "source": [
    "import time\n",
    "\n",
    "date = time.localtime()                          #获取当前日期时间\n",
    "year, month, day = date[:3]\n",
    "day_month = [31, 28, 31, 30, 31, 30, 31, 31, 30, 31, 30, 31]\n",
    "\n",
    "if year%400==0 or (year%4==0 and year%100!=0):   #判断是否为闰年\n",
    "    day_month[1] = 29\n",
    "\n",
    "if month==1:\n",
    "    print(day)\n",
    "else:\n",
    "    print(sum(day_month[:month-1])+day)\n"
   ]
  },
  {
   "cell_type": "code",
   "execution_count": 5,
   "id": "f94942a5-cfa3-41dd-8bae-58c81c9a8c1b",
   "metadata": {},
   "outputs": [
    {
     "name": "stdout",
     "output_type": "stream",
     "text": [
      "1+2+3+…+100 =  5050\n",
      "1+2+3+…+100 =  5050\n"
     ]
    }
   ],
   "source": [
    "s=0\n",
    "for i in range(1,101):\n",
    "    s = s + i\n",
    "print('1+2+3+…+100 = ', s)\n",
    "print('1+2+3+…+100 = ', sum(range(1,101)))\n"
   ]
  },
  {
   "cell_type": "code",
   "execution_count": 6,
   "id": "ef86f42f-7c9d-42ab-8e8b-d7732dd9f01a",
   "metadata": {},
   "outputs": [
    {
     "name": "stdout",
     "output_type": "stream",
     "text": [
      "列表的第 1 个元素是： a\n",
      "列表的第 2 个元素是： b\n",
      "列表的第 3 个元素是： mpilgrim\n",
      "列表的第 4 个元素是： z\n",
      "列表的第 5 个元素是： example\n"
     ]
    }
   ],
   "source": [
    "a_list=['a', 'b', 'mpilgrim', 'z', 'example']\n",
    "for i,v in enumerate(a_list):\n",
    "    print('列表的第', i+1, '个元素是：', v)\n"
   ]
  },
  {
   "cell_type": "code",
   "execution_count": 7,
   "id": "15564196-556f-4b75-b88a-5db2b2fdc66d",
   "metadata": {},
   "outputs": [
    {
     "name": "stdout",
     "output_type": "stream",
     "text": [
      "7\n",
      "14\n",
      "21\n",
      "28\n",
      "42\n",
      "49\n",
      "56\n",
      "63\n",
      "77\n",
      "84\n",
      "91\n",
      "98\n"
     ]
    }
   ],
   "source": [
    "for i in range(1,101):\n",
    "\tif i % 7 == 0 and i % 5 != 0:\n",
    "\t\tprint(i)\n"
   ]
  },
  {
   "cell_type": "code",
   "execution_count": 8,
   "id": "5243c056-86e3-4c23-8f1e-99c47989ac00",
   "metadata": {},
   "outputs": [
    {
     "name": "stdout",
     "output_type": "stream",
     "text": [
      "153\n",
      "370\n",
      "371\n",
      "407\n"
     ]
    }
   ],
   "source": [
    "for i in range(100, 1000):\n",
    "    #这里是序列解包的用法\n",
    "    bai, shi, ge = map(int, str(i))\n",
    "    if ge**3 + shi**3 + bai**3 == i:\n",
    "        print(i)\n"
   ]
  },
  {
   "cell_type": "code",
   "execution_count": 9,
   "id": "5517c840-8b4c-4515-b419-e4bb36343764",
   "metadata": {},
   "outputs": [
    {
     "name": "stdout",
     "output_type": "stream",
     "text": [
      "82.375\n",
      "82.375\n"
     ]
    }
   ],
   "source": [
    "score = [70, 90, 78, 85, 97, 94, 65, 80]\n",
    "s = 0\n",
    "for i in score:\n",
    "\ts += i\n",
    "print(s/len(score))\n",
    "print(sum(score) / len(score))                 #也可以直接这样做\n"
   ]
  },
  {
   "cell_type": "code",
   "execution_count": 10,
   "id": "34f89213-9f05-49bf-b0f9-b6419c6d5a63",
   "metadata": {},
   "outputs": [
    {
     "name": "stdout",
     "output_type": "stream",
     "text": [
      "1*1=1  \n",
      "2*1=2  2*2=4  \n",
      "3*1=3  3*2=6  3*3=9  \n",
      "4*1=4  4*2=8  4*3=12 4*4=16 \n",
      "5*1=5  5*2=10 5*3=15 5*4=20 5*5=25 \n",
      "6*1=6  6*2=12 6*3=18 6*4=24 6*5=30 6*6=36 \n",
      "7*1=7  7*2=14 7*3=21 7*4=28 7*5=35 7*6=42 7*7=49 \n",
      "8*1=8  8*2=16 8*3=24 8*4=32 8*5=40 8*6=48 8*7=56 8*8=64 \n",
      "9*1=9  9*2=18 9*3=27 9*4=36 9*5=45 9*6=54 9*7=63 9*8=72 9*9=81 \n"
     ]
    }
   ],
   "source": [
    "for i in range(1,10):\n",
    "    for j in range(1,i+1):\n",
    "        print('{0}*{1}={2}'.format(i,j,i*j).ljust(6), end=' ')\n",
    "    print()\n"
   ]
  },
  {
   "cell_type": "code",
   "execution_count": 11,
   "id": "51ea84c6-32f9-43e4-88c7-7136f6106e3f",
   "metadata": {},
   "outputs": [
    {
     "name": "stdout",
     "output_type": "stream",
     "text": [
      "187\n"
     ]
    }
   ],
   "source": [
    "for i in range(200,0,-1):\n",
    "    if i%17 == 0:\n",
    "        print(i)\n",
    "        break\n"
   ]
  },
  {
   "cell_type": "code",
   "execution_count": 12,
   "id": "9d3f96bd-402f-44e5-b3ec-0d60b05b6b22",
   "metadata": {},
   "outputs": [
    {
     "name": "stdout",
     "output_type": "stream",
     "text": [
      "No\n"
     ]
    }
   ],
   "source": [
    "import math\n",
    "\n",
    "n = input('Input an inter:')\n",
    "n = int(n)\n",
    "m = math.ceil(math.sqrt(n)+1)\n",
    "for i in range(2, m):\n",
    "    if n%i == 0 and i<n:\n",
    "        print('No')\n",
    "        break\n",
    "else:\n",
    "    print('Yes')\n"
   ]
  },
  {
   "cell_type": "code",
   "execution_count": 13,
   "id": "a08c7805-c5dd-476b-8686-cea290cfdd1f",
   "metadata": {},
   "outputs": [
    {
     "name": "stdout",
     "output_type": "stream",
     "text": [
      "ji: 15  tu: 15\n"
     ]
    }
   ],
   "source": [
    "for ji in range(0, 31):\n",
    "    if 2*ji + (30-ji)*4 == 90:\n",
    "        print('ji:', ji, ' tu:', 30-ji)\n"
   ]
  },
  {
   "cell_type": "code",
   "execution_count": 14,
   "id": "96501e74-2e73-426d-8adb-6dbb27344edb",
   "metadata": {},
   "outputs": [
    {
     "name": "stdout",
     "output_type": "stream",
     "text": [
      "123\n",
      "124\n",
      "132\n",
      "134\n",
      "142\n",
      "143\n",
      "213\n",
      "214\n",
      "231\n",
      "234\n",
      "241\n",
      "243\n",
      "312\n",
      "314\n",
      "321\n",
      "324\n",
      "341\n",
      "342\n",
      "412\n",
      "413\n",
      "421\n",
      "423\n",
      "431\n",
      "432\n"
     ]
    }
   ],
   "source": [
    "digits = (1, 2, 3, 4)\n",
    "\n",
    "for i in digits:\n",
    "    for j in digits:\n",
    "        for k in digits:\n",
    "            if i!=j and j!=k and i!=k:\n",
    "                print(i*100+j*10+k)\n"
   ]
  },
  {
   "cell_type": "code",
   "execution_count": 15,
   "id": "f4f28a09-f038-4d53-abe9-7999459e2905",
   "metadata": {},
   "outputs": [
    {
     "name": "stdout",
     "output_type": "stream",
     "text": [
      "[7, 38, 69, 74, 26, 15, 92, 20, 63, 33, 54, 70, 75, 51, 81, 43, 52, 98, 79, 86]\n",
      "20\n",
      "[7, 15, 20, 26, 33, 38, 43, 51, 52, 54, 63, 69, 70, 74, 75, 79, 81, 86, 92, 98]\n"
     ]
    }
   ],
   "source": [
    "import random\n",
    "\n",
    "x = []\n",
    "while True:\n",
    "    if len(x)==20:\n",
    "        break\n",
    "    n = random.randint(1, 100)\n",
    "    if n not in x:\n",
    "        x.append(n)\n",
    "print(x)\n",
    "print(len(x))\n",
    "print(sorted(x))\n"
   ]
  },
  {
   "cell_type": "code",
   "execution_count": 16,
   "id": "0f0deebf-09b1-4532-9d90-32ee1d821731",
   "metadata": {},
   "outputs": [
    {
     "name": "stdout",
     "output_type": "stream",
     "text": [
      "19600.0\n"
     ]
    }
   ],
   "source": [
    "def Cni1(n,i):\n",
    "    if not (isinstance(n,int) and isinstance(i,int) and n>=i):\n",
    "        print('n and i must be integers and n must be larger than or equal to i.')\n",
    "        return\n",
    "    result = 1\n",
    "    Min, Max = sorted((i,n-i))\n",
    "    for i in range(n,0,-1):\n",
    "        if i>Max:\n",
    "            result *= i\n",
    "        elif i<=Min:\n",
    "            result /= i\n",
    "    return result\n",
    "\n",
    "print(Cni1(50, 3))\n"
   ]
  },
  {
   "cell_type": "code",
   "execution_count": 17,
   "id": "24d62ee3-dc7c-442d-ac98-33075671b23f",
   "metadata": {},
   "outputs": [
    {
     "name": "stdout",
     "output_type": "stream",
     "text": [
      "103911.168549169\n"
     ]
    }
   ],
   "source": [
    "def licai(base, rate, days):\n",
    "    #初始投资金额\n",
    "    result = base\n",
    "    #整除，用来计算一年可以滚动多少期\n",
    "    times = 365//days\n",
    "    for i in range(times):\n",
    "        result = result +result*rate/365*days\n",
    "    return result\n",
    "#14天理财，利率0.0385，投资10万\n",
    "print(licai(100000, 0.0385, 14))\n"
   ]
  },
  {
   "cell_type": "code",
   "execution_count": 18,
   "id": "8d7fe2be-7173-4e30-9a74-f3ae5c57f497",
   "metadata": {},
   "outputs": [
    {
     "name": "stdout",
     "output_type": "stream",
     "text": [
      "Before sort:\n",
      " [72, 3, 90, 58, 18, 66, 20, 8, 30, 86, 53, 54, 70, 17, 76, 14, 53, 67, 36, 55]\n",
      "After sort:\n",
      " [3, 8, 14, 17, 18, 20, 30, 36, 53, 53, 54, 55, 58, 66, 67, 70, 72, 76, 86, 90]\n"
     ]
    }
   ],
   "source": [
    "from random import randint\n",
    "\n",
    "def bubbleSort(lst):\n",
    "    length = len(lst)\n",
    "    for i in range(0, length):\n",
    "        for j in range(0, length-i-1):\n",
    "            #比较相邻两个元素大小，并根据需要进行交换\n",
    "            if lst[j] > lst[j+1]:\n",
    "                lst[j], lst[j+1] = lst[j+1], lst[j]\n",
    "\n",
    "lst = [randint(1, 100) for i in range(20)]\n",
    "print('Before sort:\\n', lst)\n",
    "bubbleSort(lst)\n",
    "print('After sort:\\n', lst)\n"
   ]
  },
  {
   "cell_type": "code",
   "execution_count": 19,
   "id": "8008d4ce-4da7-4f62-961a-2ea9ec3b579d",
   "metadata": {},
   "outputs": [
    {
     "name": "stdout",
     "output_type": "stream",
     "text": [
      "Before sort:\n",
      " [17, 67, 87, 60, 12, 20, 90, 13, 42, 11, 83, 11, 61, 69, 27, 69, 31, 25, 74, 72]\n",
      "After sort:\n",
      " [11, 11, 12, 13, 17, 20, 25, 27, 31, 42, 60, 61, 67, 69, 69, 72, 74, 83, 87, 90]\n"
     ]
    }
   ],
   "source": [
    "from random import randint\n",
    "\n",
    "def selectSort(lst, reverse=False):\n",
    "    length = len(lst)\n",
    "    for i in range(0, length):\n",
    "        m = i  #假设剩余元素中第一个最小或最大        \n",
    "        for j in range(i+1, length):  #扫描剩余元素\n",
    "            #如果有更小或更大的，就记录下它的位置\n",
    "            exp = 'lst[j] < lst[m]'\n",
    "            if reverse:\n",
    "                exp = 'lst[j] > lst[m]'\n",
    "            #内置函数eval()用来对字符串进行求值\n",
    "            if eval(exp):\n",
    "                m = j        \n",
    "        if m!=i:  #如果发现更小或更大的，就交换值\n",
    "            lst[i], lst[m] = lst[m], lst[i]\n",
    "\n",
    "\n",
    "lst = [randint(1, 100) for i in range(20)]\n",
    "print('Before sort:\\n', lst)\n",
    "selectSort(lst)\n",
    "print('After sort:\\n', lst)\n"
   ]
  },
  {
   "cell_type": "code",
   "execution_count": 20,
   "id": "1611f7aa-b463-42f8-9f9d-2fd8a4b16759",
   "metadata": {},
   "outputs": [
    {
     "name": "stdout",
     "output_type": "stream",
     "text": [
      "[5, 5, 20, 21, 21, 23, 23, 23, 28, 28, 29, 30, 31, 32, 33, 36, 41, 45, 46, 47]\n",
      "[5, 5, 20, 21, 21, 23, 23, 23, 28, 28, 29, 30, 31, 32, 33, 36, 41, 45, 46, 47]\n",
      "[30, 31, 32, 33, 36, 41, 45, 46, 47]\n",
      "[30, 31, 32, 33]\n",
      "[30, 31]\n",
      "[30]\n",
      "Success, its position is: 11\n"
     ]
    }
   ],
   "source": [
    "def binarySearch(lst, value):\n",
    "    start = 0\n",
    "    end = len(lst)\n",
    "    while start < end:\n",
    "        print(lst[start:end])\n",
    "        middle = (start + end) // 2      #计算中间位置        \n",
    "        if value == lst[middle]:         #查找成功，返回元素对应的位置\n",
    "            return middle        \n",
    "        elif value > lst[middle]:        #在后面一半元素中继续查找\n",
    "            start = middle + 1        \n",
    "        elif value < lst[middle]:        #在前面一半元素中继续查找\n",
    "            end = middle  \n",
    "    return False                         #查找不成功，返回False\n",
    "\n",
    "from random import randint\n",
    "\n",
    "lst = [5, 5, 20, 21, 21, 23, 23, 23, 28, 28, 29, 30, 31, 32, 33, 36, 41, 45, 46, 47]\n",
    "lst.sort()\n",
    "print(lst)\n",
    "result = binarySearch(lst, 30)\n",
    "if result!=False:\n",
    "    print('Success, its position is:',result)\n",
    "else:\n",
    "    print('Fail. Not exist.')\n"
   ]
  },
  {
   "cell_type": "code",
   "execution_count": 21,
   "id": "cf0acb39-191a-4d97-a2d7-8f6c1812bf01",
   "metadata": {},
   "outputs": [
    {
     "name": "stdout",
     "output_type": "stream",
     "text": [
      "0 25 75\n",
      "4 18 78\n",
      "8 11 81\n",
      "12 4 84\n"
     ]
    }
   ],
   "source": [
    "#假设能买x只公鸡，x最大为20\n",
    "for x in range(21):\n",
    "    #假设能买y只母鸡，y最大为33\n",
    "    for y in range(34):\n",
    "        #假设能买z只小鸡\n",
    "        z = 100-x-y\n",
    "        if (z%3==0 and 5*x + 3*y + z//3 == 100):\n",
    "              print(x,y,z)\n"
   ]
  },
  {
   "cell_type": "code",
   "execution_count": 22,
   "id": "ac89be71-741a-4adb-92ea-87c91754b4d8",
   "metadata": {},
   "outputs": [
    {
     "name": "stdout",
     "output_type": "stream",
     "text": [
      "去掉一个最高分5.0\n",
      "去掉一个最低分2.0\n",
      "最后得分4.0\n"
     ]
    }
   ],
   "source": [
    "#这个循环用来保证必须输入大于2的整数作为评委人数\n",
    "while True:\n",
    "    try:\n",
    "        n = int(input('请输入评委人数：'))\n",
    "        if n <= 2:\n",
    "            print('评委人数太少,必须多于2个人。')\n",
    "        else:\n",
    "            #如果输入大于2的整数，就结束循环\n",
    "            break\n",
    "    except:\n",
    "        Pass\n",
    "\n",
    "#用来保存所有评委的打分\n",
    "scores = []\n",
    "for i in range(n):\n",
    "    #这个while循环用来保证用户必须输入0到100之间的数字\n",
    "    while True:\n",
    "        try:\n",
    "            score = input('请输入第{0}个评委的分数：'.format(i+1))\n",
    "            #把字符串转换为实数\n",
    "            score = float(score)\n",
    "            #用来保证输入的数字在0到100之间\n",
    "            assert 0<=score<=100\n",
    "            scores.append(score)\n",
    "            #如果数据合法，跳出while循环，继续输入下一个评委的得分\n",
    "            break\n",
    "        except:\n",
    "            print('分数错误')\n",
    "\n",
    "#计算并删除最高分与最低分\n",
    "highest = max(scores)\n",
    "lowest = min(scores)\n",
    "scores.remove(highest)\n",
    "scores.remove(lowest)\n",
    "#计算平均分，保留2位小数\n",
    "finalScore = round(sum(scores)/len(scores), 2)\n",
    "\n",
    "formatter = '去掉一个最高分{0}\\n去掉一个最低分{1}\\n最后得分{2}'\n",
    "print(formatter.format(highest, lowest, finalScore))\n"
   ]
  },
  {
   "cell_type": "code",
   "execution_count": 23,
   "id": "024bd4cb-4774-4900-9d08-02edcec1156e",
   "metadata": {},
   "outputs": [
    {
     "name": "stdout",
     "output_type": "stream",
     "text": [
      "The 1 Times move:A==>C\n",
      "The 2 Times move:A==>B\n",
      "The 3 Times move:C==>B\n",
      "The 4 Times move:A==>C\n",
      "The 5 Times move:B==>A\n",
      "The 6 Times move:B==>C\n",
      "The 7 Times move:A==>C\n"
     ]
    }
   ],
   "source": [
    "def hannoi(num, src, dst, temp=None):\n",
    "    global times    #声明用来记录移动次数的变量为全局变量\n",
    "    assert type(num) == int, 'num must be integer'   #确认参数类型和范围\n",
    "    assert num > 0, 'num must > 0'    \n",
    "    if num == 1: #只剩最后或只有一个盘子需要移动，这也是函数递归调用的结束条件\n",
    "        print('The {0} Times move:{1}==>{2}'.format(times, src, dst))\n",
    "        times += 1\n",
    "    else:\n",
    "        #递归调用函数自身，先把除最后一个盘子之外的所有盘子移动到临时柱子上\n",
    "        hannoi(num-1, src, temp, dst)\n",
    "        hannoi(1, src, dst)   #把最后一个盘子直接移动到目标柱子上\n",
    "        #把除最后一个盘子之外的其他盘子从临时柱子上移动到目标柱子上\n",
    "        hannoi(num-1, temp, dst, src)\n",
    "times = 1    #用来记录移动次数的变量\n",
    "hannoi(3, 'A', 'C', 'B') #A表示最初放置盘子的柱子，C是目标柱子，B是临时柱子\n"
   ]
  },
  {
   "cell_type": "code",
   "execution_count": 24,
   "id": "74824373-3af5-43cd-9048-add3b43c9ae8",
   "metadata": {},
   "outputs": [
    {
     "name": "stdout",
     "output_type": "stream",
     "text": [
      "5\n"
     ]
    }
   ],
   "source": [
    "def cni(n, i):\n",
    "    if n==i or i==0:\n",
    "        return 1\n",
    "    return cni(n-1, i) + cni(n-1, i-1)\n",
    "\n",
    "print(cni(5,4))\n"
   ]
  },
  {
   "cell_type": "code",
   "execution_count": 25,
   "id": "d33b82c4-aa81-45c9-bc64-4b73505b7076",
   "metadata": {},
   "outputs": [
    {
     "name": "stdout",
     "output_type": "stream",
     "text": [
      "                              \n",
      "              *               \n",
      "             *  *             \n",
      "           *  *  *            \n",
      "          *  *  *  *          \n",
      "        *  *  *  *  *         \n",
      "       *  *  *  *  *  *       \n",
      "     *  *  *  *  *  *  *      \n",
      "    *  *  *  *  *  *  *  *    \n",
      "  *  *  *  *  *  *  *  *  *   \n",
      " *  *  *  *  *  *  *  *  *  * \n",
      "  *  *  *  *  *  *  *  *  *   \n",
      "    *  *  *  *  *  *  *  *    \n",
      "     *  *  *  *  *  *  *      \n",
      "       *  *  *  *  *  *       \n",
      "        *  *  *  *  *         \n",
      "          *  *  *  *          \n",
      "           *  *  *            \n",
      "             *  *             \n",
      "              *               \n"
     ]
    }
   ],
   "source": [
    "def main(n):\n",
    "    for i in range(n):\n",
    "        print((' * '*i).center(n*3))\n",
    "    for i in range(n, 0, -1):\n",
    "        print((' * '*i).center(n*3))\n",
    "\n",
    "main(10)\n"
   ]
  },
  {
   "cell_type": "code",
   "execution_count": 26,
   "id": "5b08c2ad-2638-443b-b0f2-d8c31e5f04b2",
   "metadata": {},
   "outputs": [
    {
     "name": "stdout",
     "output_type": "stream",
     "text": [
      "A\n"
     ]
    }
   ],
   "source": [
    "def func(score):\n",
    "    degree = 'DCBAAE'\n",
    "    if score > 100 or score < 0:\n",
    "        return 'wrong score.must between 0 and 100.'\n",
    "    else:\n",
    "        index = (score - 60) // 10\n",
    "        if index >= 0:\n",
    "            return degree[index]\n",
    "        else:\n",
    "            return degree[-1]\n",
    "\n",
    "print(func(96))\n"
   ]
  },
  {
   "cell_type": "code",
   "execution_count": 27,
   "id": "8a0012b1-3429-4c02-9fc2-31013fb01c39",
   "metadata": {},
   "outputs": [
    {
     "name": "stdout",
     "output_type": "stream",
     "text": [
      "Wrong integer.\n"
     ]
    }
   ],
   "source": [
    "funcDict = {'1':lambda:print('You input 1'),\n",
    "            '2':lambda:print('You input 2'),\n",
    "            '3':lambda:print('You input 3')}\n",
    "\n",
    "x = input('Input an integer to call different function:')\n",
    "\n",
    "func = funcDict.get(x, None)\n",
    "if func:\n",
    "    func()\n",
    "else:\n",
    "    print('Wrong integer.')\n"
   ]
  },
  {
   "cell_type": "code",
   "execution_count": null,
   "id": "36db94f6-1d7d-46cd-9b2f-a7b96503ea4e",
   "metadata": {},
   "outputs": [],
   "source": []
  }
 ],
 "metadata": {
  "kernelspec": {
   "display_name": "Python 3 (ipykernel)",
   "language": "python",
   "name": "python3"
  },
  "language_info": {
   "codemirror_mode": {
    "name": "ipython",
    "version": 3
   },
   "file_extension": ".py",
   "mimetype": "text/x-python",
   "name": "python",
   "nbconvert_exporter": "python",
   "pygments_lexer": "ipython3",
   "version": "3.8.18"
  }
 },
 "nbformat": 4,
 "nbformat_minor": 5
}
